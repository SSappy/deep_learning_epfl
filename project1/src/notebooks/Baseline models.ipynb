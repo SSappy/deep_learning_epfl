{
 "cells": [
  {
   "cell_type": "markdown",
   "metadata": {},
   "source": [
    "# Baseline models performances\n",
    "\n",
    "In this notebook we train baseline models such as logistic regressions, support vector machines and random forest and use cross-validation to get the best hyper-parameters. Even if they obviously won't give the best accuracies, it's important to know how well they perform and see what we can expect from them."
   ]
  },
  {
   "cell_type": "code",
   "execution_count": 1,
   "metadata": {},
   "outputs": [
    {
     "name": "stdout",
     "output_type": "stream",
     "text": [
      "/home/quentin/Documents/Courses/Deep learning/Projects/project1/src\n"
     ]
    }
   ],
   "source": [
    "%cd .."
   ]
  },
  {
   "cell_type": "code",
   "execution_count": 30,
   "metadata": {},
   "outputs": [
    {
     "name": "stdout",
     "output_type": "stream",
     "text": [
      "The autoreload extension is already loaded. To reload it, use:\n",
      "  %reload_ext autoreload\n"
     ]
    }
   ],
   "source": [
    "import numpy as np\n",
    "\n",
    "from utils.loading import load_data\n",
    "from baseline_model import BaselineModel\n",
    "\n",
    "import matplotlib.pyplot as plt\n",
    "\n",
    "%matplotlib inline\n",
    "\n",
    "import seaborn as sns\n",
    "\n",
    "%load_ext autoreload\n",
    "%autoreload 2"
   ]
  },
  {
   "cell_type": "code",
   "execution_count": 3,
   "metadata": {},
   "outputs": [],
   "source": [
    "one_khz = False\n",
    "\n",
    "x_train, y_train = load_data(one_khz=one_khz)\n",
    "x_test, y_test = load_data(train=False, one_khz=one_khz)"
   ]
  },
  {
   "cell_type": "markdown",
   "metadata": {},
   "source": [
    "## Logistic regression\n",
    "\n",
    "The first baseline model that we train is the logistic regression. We use cross-validation to tune the parameter `C` (which controls the regularization)."
   ]
  },
  {
   "cell_type": "code",
   "execution_count": 36,
   "metadata": {},
   "outputs": [
    {
     "data": {
      "text/plain": [
       "[<matplotlib.lines.Line2D at 0x7fdd9e0c6748>]"
      ]
     },
     "execution_count": 36,
     "metadata": {},
     "output_type": "execute_result"
    },
    {
     "data": {
      "image/png": "[encoded data removed]",
      "text/plain": [
       "<Figure size 432x288 with 1 Axes>"
      ]
     },
     "metadata": {},
     "output_type": "display_data"
    }
   ],
   "source": [
    "model = BaselineModel(model='logistic')\n",
    "\n",
    "params = dict(C=np.logspace(-5, 5, 15))\n",
    "\n",
    "clf = model.tune_params(params, x_train, y_train, standardize=True)\n",
    "\n",
    "plt.semilogx(params['C'], clf.cv_results_['mean_test_score'])"
   ]
  },
  {
   "cell_type": "code",
   "execution_count": 37,
   "metadata": {},
   "outputs": [],
   "source": [
    "C_tuned = params['C'][np.argmax(clf.cv_results_['mean_test_score'])]\n",
    "\n",
    "model = BaselineModel(model='logistic', C=C_tuned)\n",
    "logistic_cross_val = model.cross_validation(x_train, y_train, standardize=True, raw=True)"
   ]
  },
  {
   "cell_type": "code",
   "execution_count": 11,
   "metadata": {},
   "outputs": [
    {
     "data": {
      "text/plain": [
       "0.73"
      ]
     },
     "execution_count": 11,
     "metadata": {},
     "output_type": "execute_result"
    }
   ],
   "source": [
    "model.fit(x_train, y_train, standardize=True)\n",
    "model.compute_accuracy(x_test, y_test)"
   ]
  },
  {
   "cell_type": "markdown",
   "metadata": {},
   "source": [
    "## Support vector machines\n",
    "\n",
    "We train here a support vector machines classifier."
   ]
  },
  {
   "cell_type": "code",
   "execution_count": 34,
   "metadata": {},
   "outputs": [
    {
     "name": "stdout",
     "output_type": "stream",
     "text": [
      "The best score is 0.731 with the parameters {'C': 0.037275937203149416, 'kernel': 'linear'}\n"
     ]
    }
   ],
   "source": [
    "model = BaselineModel(model='svm')\n",
    "\n",
    "params = dict(C=np.logspace(-5, 5, 15), kernel=['rbf', 'linear', 'poly', 'sigmoid'])\n",
    "\n",
    "clf = model.tune_params(params, x_train, y_train, standardize=True)\n",
    "\n",
    "print('The best score is {0} with the parameters {1}'.format(round(clf.best_score_, 4), clf.best_params_))"
   ]
  },
  {
   "cell_type": "code",
   "execution_count": 35,
   "metadata": {},
   "outputs": [],
   "source": [
    "tuned_params = clf.best_params_\n",
    "\n",
    "model = BaselineModel(model='svm', C=tuned_params['C'], kernel=tuned_params['kernel'])\n",
    "svm_cross_val = model.cross_validation(x_train, y_train, standardize=True, raw=True)"
   ]
  },
  {
   "cell_type": "code",
   "execution_count": 28,
   "metadata": {},
   "outputs": [
    {
     "data": {
      "text/plain": [
       "0.7"
      ]
     },
     "execution_count": 28,
     "metadata": {},
     "output_type": "execute_result"
    }
   ],
   "source": [
    "model.fit(x_train, y_train, standardize=True)\n",
    "model.compute_accuracy(x_test, y_test)"
   ]
  },
  {
   "cell_type": "markdown",
   "metadata": {},
   "source": [
    "## Random forest\n",
    "\n",
    "Finally we train a random forest classifier. For this kind of classifier, the accuracy usually increases as the number of the estimators in the forest increases. Thus, the larger it is, the better results we can expect. However, we restraint it to 200 for the parameters tuning because it increases the computation time a lot."
   ]
  },
  {
   "cell_type": "code",
   "execution_count": 29,
   "metadata": {},
   "outputs": [
    {
     "name": "stdout",
     "output_type": "stream",
     "text": [
      "The best score is 0.6392 with the parameters {'criterion': 'gini', 'max_depth': 8, 'max_features': 'sqrt', 'min_samples_leaf': 16, 'n_estimators': 130}\n"
     ]
    }
   ],
   "source": [
    "model = BaselineModel(model='forest')\n",
    "\n",
    "params = dict(n_estimators=np.arange(10, 200, 40),\n",
    "              criterion=['gini', 'entropy'],\n",
    "              max_features = [None, 'log2', 'sqrt', 'auto'],\n",
    "              min_samples_leaf = [1, 2, 4, 16],\n",
    "              max_depth = np.array([1, 2, 4, 8, 16, 32, None]))\n",
    "\n",
    "clf = model.tune_params(params, x_train, y_train, standardize=True)\n",
    "\n",
    "print('The best score is {0} with the parameters {1}'.format(round(clf.best_score_, 4), clf.best_params_))"
   ]
  },
  {
   "cell_type": "code",
   "execution_count": 31,
   "metadata": {},
   "outputs": [],
   "source": [
    "tuned_params = clf.best_params_\n",
    "\n",
    "model = BaselineModel(model='forest', n_estimators=tuned_params['n_estimators'],\n",
    "                      criterion=tuned_params['criterion'],\n",
    "                      max_features=tuned_params['max_features'],\n",
    "                      min_samples_leaf=tuned_params['min_samples_leaf'],\n",
    "                      max_depth=tuned_params['max_depth'])\n",
    "\n",
    "forest_cross_val = model.cross_validation(x_train, y_train, standardize=True, raw=True)"
   ]
  },
  {
   "cell_type": "markdown",
   "metadata": {},
   "source": [
    "## Results"
   ]
  },
  {
   "cell_type": "code",
   "execution_count": 40,
   "metadata": {},
   "outputs": [
    {
     "data": {
      "image/png": "[encoded data removed]",
      "text/plain": [
       "<Figure size 1080x360 with 1 Axes>"
      ]
     },
     "metadata": {},
     "output_type": "display_data"
    }
   ],
   "source": [
    "fig, ax = plt.subplots(figsize=(15,5))\n",
    "\n",
    "sns.boxplot(data=[logistic_cross_val, svm_cross_val, forest_cross_val], ax=ax)\n",
    "ax.set_title('Cross validation for the baseline models')\n",
    "ax.set_ylabel('Accuracy')\n",
    "ax.set_xlabel('Model')\n",
    "ax.set_xticklabels(['Logistic', 'SVM', 'Random forest'], fontsize=10)\n",
    "\n",
    "plt.tight_layout()\n",
    "\n",
    "plt.show()"
   ]
  }
 ],
 "metadata": {
  "kernelspec": {
   "display_name": "Python 3",
   "language": "python",
   "name": "python3"
  },
  "language_info": {
   "codemirror_mode": {
    "name": "ipython",
    "version": 3
   },
   "file_extension": ".py",
   "mimetype": "text/x-python",
   "name": "python",
   "nbconvert_exporter": "python",
   "pygments_lexer": "ipython3",
   "version": "3.6.5"
  }
 },
 "nbformat": 4,
 "nbformat_minor": 2
}
