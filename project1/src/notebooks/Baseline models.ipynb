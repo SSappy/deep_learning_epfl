{
 "cells": [
  {
   "cell_type": "markdown",
   "metadata": {},
   "source": [
    "# Baseline models performances\n",
    "\n",
    "In this notebook we train baseline models such as logistic regressions, support vector machines and random forest and use cross-validation to get the best hyper-parameters. Even if they obviously won't give the best accuracies, it's important to know how well they perform and see what we can expect from them."
   ]
  },
  {
   "cell_type": "code",
   "execution_count": 1,
   "metadata": {},
   "outputs": [
    {
     "name": "stdout",
     "output_type": "stream",
     "text": [
      "/home/quentin/Documents/Courses/Deep learning/Projects/project1/src\n"
     ]
    }
   ],
   "source": [
    "%cd .."
   ]
  },
  {
   "cell_type": "code",
   "execution_count": 2,
   "metadata": {},
   "outputs": [],
   "source": [
    "import numpy as np\n",
    "\n",
    "from utils.loading import load_data\n",
    "from baseline_model import BaselineModel\n",
    "\n",
    "import matplotlib.pyplot as plt\n",
    "\n",
    "%matplotlib inline\n",
    "\n",
    "import seaborn as sns\n",
    "\n",
    "%load_ext autoreload\n",
    "%autoreload 2"
   ]
  },
  {
   "cell_type": "code",
   "execution_count": 3,
   "metadata": {},
   "outputs": [],
   "source": [
    "one_khz = False\n",
    "\n",
    "x_train, y_train = load_data(one_khz=one_khz)\n",
    "x_test, y_test = load_data(train=False, one_khz=one_khz)"
   ]
  },
  {
   "cell_type": "markdown",
   "metadata": {},
   "source": [
    "## Logistic regression\n",
    "\n",
    "The first baseline model that we train is the logistic regression. We use cross-validation to tune the parameter `C` (which controls the regularization)."
   ]
  },
  {
   "cell_type": "code",
   "execution_count": 21,
   "metadata": {},
   "outputs": [
    {
     "data": {
      "text/plain": [
       "[<matplotlib.lines.Line2D at 0x7f84020587f0>]"
      ]
     },
     "execution_count": 21,
     "metadata": {},
     "output_type": "execute_result"
    },
    {
     "data": {
      "image/png": "[encoded data removed]",
      "text/plain": [
       "<Figure size 432x288 with 1 Axes>"
      ]
     },
     "metadata": {},
     "output_type": "display_data"
    }
   ],
   "source": [
    "model = BaselineModel(model='logistic')\n",
    "\n",
    "params = dict(C=np.logspace(-5, 5, 15))\n",
    "\n",
    "clf = model.tune_params(params, x_train, y_train, standardize=True)\n",
    "\n",
    "plt.semilogx(params['C'], clf.cv_results_['mean_test_score'])"
   ]
  },
  {
   "cell_type": "code",
   "execution_count": 13,
   "metadata": {},
   "outputs": [
    {
     "name": "stdout",
     "output_type": "stream",
     "text": [
      "The accuracy of this model is 72.1651+/-1.334%\n"
     ]
    }
   ],
   "source": [
    "C_tuned = params['C'][np.argmax(clf.cv_results_['mean_test_score'])]\n",
    "\n",
    "model = BaselineModel(model='logistic', C=C_tuned)\n",
    "logistic_cross_val = model.cross_validation(x_train, y_train, standardize=True, raw=True)\n",
    "\n",
    "acc = round(100*np.mean(logistic_cross_val), 4)\n",
    "std = round(100*np.std(logistic_cross_val), 4)\n",
    "print('The accuracy of this model is {0}+/-{1}%'.format(acc, std))"
   ]
  },
  {
   "cell_type": "code",
   "execution_count": 11,
   "metadata": {},
   "outputs": [
    {
     "data": {
      "text/plain": [
       "0.73"
      ]
     },
     "execution_count": 11,
     "metadata": {},
     "output_type": "execute_result"
    }
   ],
   "source": [
    "model.fit(x_train, y_train, standardize=True)\n",
    "model.compute_accuracy(x_test, y_test)"
   ]
  },
  {
   "cell_type": "markdown",
   "metadata": {},
   "source": [
    "## Support vector machines\n",
    "\n",
    "We train here a support vector machines classifier."
   ]
  },
  {
   "cell_type": "code",
   "execution_count": 34,
   "metadata": {},
   "outputs": [
    {
     "name": "stdout",
     "output_type": "stream",
     "text": [
      "The best score is 0.731 with the parameters {'C': 0.037275937203149416, 'kernel': 'linear'}\n"
     ]
    }
   ],
   "source": [
    "model = BaselineModel(model='svm')\n",
    "\n",
    "params = dict(C=np.logspace(-5, 5, 15), kernel=['rbf', 'linear', 'poly', 'sigmoid'])\n",
    "\n",
    "clf = model.tune_params(params, x_train, y_train, standardize=True)\n",
    "\n",
    "print('The best score is {0} with the parameters {1}'.format(round(clf.best_score_, 4), clf.best_params_))"
   ]
  },
  {
   "cell_type": "code",
   "execution_count": 15,
   "metadata": {},
   "outputs": [
    {
     "name": "stdout",
     "output_type": "stream",
     "text": [
      "The accuracy of this model is 73.1074+/-3.0815%\n"
     ]
    }
   ],
   "source": [
    "tuned_params = clf.best_params_\n",
    "\n",
    "model = BaselineModel(model='svm', C=tuned_params['C'], kernel=tuned_params['kernel'])\n",
    "svm_cross_val = model.cross_validation(x_train, y_train, standardize=True, raw=True)\n",
    "\n",
    "acc = round(100*np.mean(svm_cross_val), 4)\n",
    "std = round(100*np.std(svm_cross_val), 4)\n",
    "print('The accuracy of this model is {0}+/-{1}%'.format(acc, std))"
   ]
  },
  {
   "cell_type": "code",
   "execution_count": 28,
   "metadata": {},
   "outputs": [
    {
     "data": {
      "text/plain": [
       "0.7"
      ]
     },
     "execution_count": 28,
     "metadata": {},
     "output_type": "execute_result"
    }
   ],
   "source": [
    "model.fit(x_train, y_train, standardize=True)\n",
    "model.compute_accuracy(x_test, y_test)"
   ]
  },
  {
   "cell_type": "markdown",
   "metadata": {},
   "source": [
    "## Random forest\n",
    "\n",
    "Finally we train a random forest classifier. For this kind of classifier, the accuracy usually increases as the number of the estimators in the forest increases. Thus, the larger it is, the better results we can expect. However, we restraint it to 200 for the parameters tuning because it increases the computation time a lot."
   ]
  },
  {
   "cell_type": "code",
   "execution_count": 29,
   "metadata": {},
   "outputs": [
    {
     "name": "stdout",
     "output_type": "stream",
     "text": [
      "The best score is 0.6392 with the parameters {'criterion': 'gini', 'max_depth': 8, 'max_features': 'sqrt', 'min_samples_leaf': 16, 'n_estimators': 130}\n"
     ]
    }
   ],
   "source": [
    "model = BaselineModel(model='forest')\n",
    "\n",
    "params = dict(n_estimators=np.arange(10, 200, 40),\n",
    "              criterion=['gini', 'entropy'],\n",
    "              max_features = [None, 'log2', 'sqrt', 'auto'],\n",
    "              min_samples_leaf = [1, 2, 4, 16],\n",
    "              max_depth = np.array([1, 2, 4, 8, 16, 32, None]))\n",
    "\n",
    "clf = model.tune_params(params, x_train, y_train, standardize=True)\n",
    "\n",
    "print('The best score is {0} with the parameters {1}'.format(round(clf.best_score_, 4), clf.best_params_))"
   ]
  },
  {
   "cell_type": "code",
   "execution_count": 16,
   "metadata": {},
   "outputs": [
    {
     "name": "stdout",
     "output_type": "stream",
     "text": [
      "The accuracy of this model is 61.7476+/-6.5575%\n"
     ]
    }
   ],
   "source": [
    "tuned_params = clf.best_params_\n",
    "\n",
    "model = BaselineModel(model='forest', n_estimators=tuned_params['n_estimators'],\n",
    "                      criterion=tuned_params['criterion'],\n",
    "                      max_features=tuned_params['max_features'],\n",
    "                      min_samples_leaf=tuned_params['min_samples_leaf'],\n",
    "                      max_depth=tuned_params['max_depth'])\n",
    "\n",
    "forest_cross_val = model.cross_validation(x_train, y_train, standardize=True, raw=True)\n",
    "\n",
    "acc = round(100*np.mean(forest_cross_val), 4)\n",
    "std = round(100*np.std(forest_cross_val), 4)\n",
    "print('The accuracy of this model is {0}+/-{1}%'.format(acc, std))"
   ]
  },
  {
   "cell_type": "markdown",
   "metadata": {},
   "source": [
    "## Results"
   ]
  },
  {
   "cell_type": "code",
   "execution_count": 20,
   "metadata": {},
   "outputs": [
    {
     "data": {
      "image/png": "[encoded data removed]",
      "text/plain": [
       "<Figure size 720x432 with 1 Axes>"
      ]
     },
     "metadata": {},
     "output_type": "display_data"
    }
   ],
   "source": [
    "fig, ax = plt.subplots(figsize=(10, 6))\n",
    "\n",
    "sns.boxplot(data=[logistic_cross_val, svm_cross_val, forest_cross_val], ax=ax)\n",
    "ax.set_title('Cross validation for the baseline models')\n",
    "ax.set_ylabel('Accuracy')\n",
    "ax.set_xlabel('Model')\n",
    "ax.set_xticklabels(['Logistic', 'SVM', 'Random forest'], fontsize=10)\n",
    "\n",
    "plt.tight_layout()\n",
    "\n",
    "plt.show()"
   ]
  }
 ],
 "metadata": {
  "kernelspec": {
   "display_name": "Python 3",
   "language": "python",
   "name": "python3"
  },
  "language_info": {
   "codemirror_mode": {
    "name": "ipython",
    "version": 3
   },
   "file_extension": ".py",
   "mimetype": "text/x-python",
   "name": "python",
   "nbconvert_exporter": "python",
   "pygments_lexer": "ipython3",
   "version": "3.6.5"
  }
 },
 "nbformat": 4,
 "nbformat_minor": 2
}
