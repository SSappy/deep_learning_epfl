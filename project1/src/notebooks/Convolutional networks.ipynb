{
 "cells": [
  {
   "cell_type": "markdown",
   "metadata": {},
   "source": [
    "# One dimension convolutional networks\n",
    "\n",
    "In this notebook we train several convolutional networks and evaluate their accuracy for the stated problem (classification of EEG signals)."
   ]
  },
  {
   "cell_type": "code",
   "execution_count": 1,
   "metadata": {},
   "outputs": [
    {
     "name": "stdout",
     "output_type": "stream",
     "text": [
      "/home/quentin/Documents/Courses/Deep learning/Projects/project1/src\n"
     ]
    }
   ],
   "source": [
    "%cd .."
   ]
  },
  {
   "cell_type": "code",
   "execution_count": 2,
   "metadata": {},
   "outputs": [],
   "source": [
    "import numpy as np\n",
    "\n",
    "from utils.loading import load_data, save_obj, load_obj\n",
    "\n",
    "import matplotlib.pyplot as plt\n",
    "\n",
    "%matplotlib inline\n",
    "\n",
    "%load_ext autoreload\n",
    "%autoreload 2\n",
    "\n",
    "from utils.cross_validation import early_stopping\n",
    "from utils.cross_validation import cross_validation\n",
    "\n",
    "from utils.visualization import plot_history"
   ]
  },
  {
   "cell_type": "code",
   "execution_count": 23,
   "metadata": {},
   "outputs": [],
   "source": [
    "x_train, y_train = load_data(one_khz=False)\n",
    "x_test, y_test = load_data(train=False, one_khz=False)\n",
    "\n",
    "x_train_one_khz, y_train_one_khz = load_data(one_khz=True)\n",
    "x_test_one_khz, y_test_one_khz = load_data(train=False, one_khz=True)"
   ]
  },
  {
   "cell_type": "markdown",
   "metadata": {},
   "source": [
    "## Basic convolutional network with 1 convolution\n",
    "\n",
    "We use this basic convolutional network with only one convolution to test hyper-parameters such as the learning rate or the type of optimizer. We evaluate the performances with cross validation and will further improve this model adding more layers or tricks such as dropout and batch normalization."
   ]
  },
  {
   "cell_type": "code",
   "execution_count": 12,
   "metadata": {},
   "outputs": [],
   "source": [
    "from conv_models import ConvNet1"
   ]
  },
  {
   "cell_type": "markdown",
   "metadata": {},
   "source": [
    "### Training with the 100Hz sampled data\n",
    "\n",
    "#### Cross validation over the learning rate\n",
    "\n",
    "We first have to tune the learning rate with the `cross_validation` function."
   ]
  },
  {
   "cell_type": "code",
   "execution_count": 13,
   "metadata": {},
   "outputs": [
    {
     "data": {
      "text/plain": [
       "[<matplotlib.lines.Line2D at 0x7f9c6a686f98>]"
      ]
     },
     "execution_count": 13,
     "metadata": {},
     "output_type": "execute_result"
    },
    {
     "data": {
      "image/png": "[encoded data removed]",
      "text/plain": [
       "<Figure size 432x288 with 1 Axes>"
      ]
     },
     "metadata": {},
     "output_type": "display_data"
    }
   ],
   "source": [
    "lr_list = np.logspace(-7, 0, 10)\n",
    "\n",
    "acc_list = []\n",
    "std_list = []\n",
    "\n",
    "for lr in lr_list:\n",
    "    acc, std = cross_validation(ConvNet1, x_train, y_train, epochs=1000, lr=lr)\n",
    "    acc_list.append(acc)\n",
    "    std_list.append(std)\n",
    "    \n",
    "plt.semilogx(lr_list, acc_list)"
   ]
  },
  {
   "cell_type": "code",
   "execution_count": 14,
   "metadata": {},
   "outputs": [],
   "source": [
    "# /!\\ Do not run unless you want to override it !\n",
    "save_obj((acc_list, std_list), 'cross_val_lr')"
   ]
  },
  {
   "cell_type": "code",
   "execution_count": 41,
   "metadata": {},
   "outputs": [
    {
     "name": "stdout",
     "output_type": "stream",
     "text": [
      "The tuned learning rate is 0.000774.\n"
     ]
    }
   ],
   "source": [
    "acc_list, std_list = load_obj('cross_val_lr')\n",
    "lr_tuned = lr_list[np.argmax(acc_list)]\n",
    "print('The tuned learning rate is {}.'.format(round(lr_tuned, 6)))"
   ]
  },
  {
   "cell_type": "markdown",
   "metadata": {},
   "source": [
    "#### Training the model"
   ]
  },
  {
   "cell_type": "code",
   "execution_count": 47,
   "metadata": {},
   "outputs": [
    {
     "name": "stdout",
     "output_type": "stream",
     "text": [
      "The accuracy of this model is 77.8621+/-4.4024%\n"
     ]
    }
   ],
   "source": [
    "acc_list = cross_validation(lambda: ConvNet1(one_khz=False), x_train, y_train, raw=True,\n",
    "                            epochs=100, lr=lr_tuned, batch_size=16,\n",
    "                            standardize=True, noise=False, crop=False)\n",
    "acc = round(100*np.mean(acc_list), 4)\n",
    "std = round(100*np.std(acc_list), 4)\n",
    "print('The accuracy of this model is {0}+/-{1}%'.format(acc, std))"
   ]
  },
  {
   "cell_type": "markdown",
   "metadata": {},
   "source": [
    "### Training with the 1kHZ sampled data\n",
    "\n",
    "#### Cross validation over the learning rate\n",
    "\n",
    "We first tune the learning rate here."
   ]
  },
  {
   "cell_type": "code",
   "execution_count": 34,
   "metadata": {},
   "outputs": [
    {
     "data": {
      "text/plain": [
       "[<matplotlib.lines.Line2D at 0x7f9c6a041ba8>]"
      ]
     },
     "execution_count": 34,
     "metadata": {},
     "output_type": "execute_result"
    },
    {
     "data": {
      "image/png": "[encoded data removed]",
      "text/plain": [
       "<Figure size 432x288 with 1 Axes>"
      ]
     },
     "metadata": {},
     "output_type": "display_data"
    }
   ],
   "source": [
    "lr_list = np.logspace(-7, 0, 10)\n",
    "\n",
    "acc_list = []\n",
    "std_list = []\n",
    "\n",
    "for lr in lr_list:\n",
    "    acc, std = cross_validation(lambda: ConvNet1(one_khz=True),\n",
    "                                x_train_one_khz, y_train_one_khz, epochs=1000, lr=lr)\n",
    "    acc_list.append(acc)\n",
    "    std_list.append(std)\n",
    "    \n",
    "plt.semilogx(lr_list, acc_list)"
   ]
  },
  {
   "cell_type": "code",
   "execution_count": 35,
   "metadata": {},
   "outputs": [],
   "source": [
    "save_obj((acc_list, std_list), 'cross_val_lr_one_khz')"
   ]
  },
  {
   "cell_type": "code",
   "execution_count": 48,
   "metadata": {},
   "outputs": [
    {
     "name": "stdout",
     "output_type": "stream",
     "text": [
      "The tuned learning rate is 0.000774.\n"
     ]
    }
   ],
   "source": [
    "acc_list, std_list = load_obj('cross_val_lr_one_khz')\n",
    "lr_tuned = lr_list[np.argmax(acc_list)]\n",
    "print('The tuned learning rate is {}.'.format(round(lr_tuned, 6)))"
   ]
  },
  {
   "cell_type": "markdown",
   "metadata": {},
   "source": [
    "#### Training the model"
   ]
  },
  {
   "cell_type": "code",
   "execution_count": 49,
   "metadata": {},
   "outputs": [
    {
     "name": "stdout",
     "output_type": "stream",
     "text": [
      "The accuracy of this model is 74.0724+/-4.6151%\n"
     ]
    }
   ],
   "source": [
    "acc_list = cross_validation(lambda: ConvNet1(one_khz=True), x_train_one_khz, y_train_one_khz, raw=True,\n",
    "                            epochs=100, lr=lr_tuned, batch_size=16,\n",
    "                            standardize=True, noise=False, crop=False)\n",
    "acc = round(100*np.mean(acc_list), 4)\n",
    "std = round(100*np.std(acc_list), 4)\n",
    "print('The accuracy of this model is {0}+/-{1}%'.format(acc, std))"
   ]
  },
  {
   "cell_type": "markdown",
   "metadata": {},
   "source": [
    "It seems like the 1kHZ data set doesn't make the accuracy better ; it makes it even worse and we think that it comes from useless additional data points from which the network can't learn anything. Several models were trained on both the 100Hz and the 1kHz data, and it appears that the later doesn't improve the results. Thus, we decided to downsample from it and augment the 100Hz data this way. We do it using the following `downsample` function."
   ]
  },
  {
   "cell_type": "markdown",
   "metadata": {},
   "source": [
    "### Basic model with augmented (downsampled) data"
   ]
  },
  {
   "cell_type": "code",
   "execution_count": null,
   "metadata": {},
   "outputs": [],
   "source": [
    "def downsampling(data,target,times,ratio):\n",
    "    \"\"\"\n",
    "    :param times:how many times do you want to augmentate data\n",
    "    :param ratio:downsampling ratio\n",
    "    \"\"\"\n",
    "    length = data.shape[2]\n",
    "    for i in range(times):\n",
    "        Data_subset=Tensor([])\n",
    "        point = randint(0,length-1)#initial the point\n",
    "        print(point)\n",
    "        for j in range(math.floor(length/ratio)):\n",
    "            if point>=length:\n",
    "                point -= length\n",
    "            sample = data[:,:,point].reshape([-1,28,1])\n",
    "            Data_subset = torch.cat([Data_subset,sample],2)\n",
    "            point +=ratio\n",
    "        if i ==0:\n",
    "            Data = Data_subset\n",
    "            Target = target\n",
    "        else:\n",
    "            Data = torch.cat([Data,Data_subset],0)\n",
    "            Target = torch.cat([Target,target])\n",
    "    return Data,Target"
   ]
  },
  {
   "cell_type": "markdown",
   "metadata": {},
   "source": [
    "### Basic model with downsampled data and noise\n",
    "\n",
    "Another way to augment the data is to add noise to it. In this section we train the same model with a gaussian noise. Here the data is augmented dynamically through the training process : when a data point is considered, a `GaussianNoise` transformation is applied to it."
   ]
  },
  {
   "cell_type": "code",
   "execution_count": null,
   "metadata": {},
   "outputs": [],
   "source": []
  }
 ],
 "metadata": {
  "kernelspec": {
   "display_name": "Python 3",
   "language": "python",
   "name": "python3"
  },
  "language_info": {
   "codemirror_mode": {
    "name": "ipython",
    "version": 3
   },
   "file_extension": ".py",
   "mimetype": "text/x-python",
   "name": "python",
   "nbconvert_exporter": "python",
   "pygments_lexer": "ipython3",
   "version": "3.6.5"
  }
 },
 "nbformat": 4,
 "nbformat_minor": 2
}
