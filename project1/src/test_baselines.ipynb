{
 "cells": [
  {
   "cell_type": "code",
   "execution_count": 49,
   "metadata": {},
   "outputs": [
    {
     "name": "stdout",
     "output_type": "stream",
     "text": [
      "The autoreload extension is already loaded. To reload it, use:\n  %reload_ext autoreload\n"
     ]
    }
   ],
   "source": [
    "import numpy as np\n",
    "\n",
    "from loading_helper import load_data\n",
    "from baseline_model import BaselineModel\n",
    "\n",
    "import matplotlib.pyplot as plt\n",
    "\n",
    "%matplotlib inline\n",
    "\n",
    "%load_ext autoreload\n",
    "%autoreload 2"
   ]
  },
  {
   "cell_type": "code",
   "execution_count": 32,
   "metadata": {},
   "outputs": [],
   "source": [
    "one_khz = True"
   ]
  },
  {
   "cell_type": "code",
   "execution_count": 33,
   "metadata": {},
   "outputs": [],
   "source": [
    "x_train, y_train = load_data(one_khz=one_khz)\n",
    "\n",
    "x_train = x_train.view(x_train.shape[0], -1)"
   ]
  },
  {
   "cell_type": "code",
   "execution_count": 34,
   "metadata": {},
   "outputs": [],
   "source": [
    "model = BaselineModel()"
   ]
  },
  {
   "cell_type": "code",
   "execution_count": 42,
   "metadata": {},
   "outputs": [
    {
     "data": {
      "text/plain": [
       "array([[-1.56675499, -1.47684053, -1.29910781, ...,  0.68358975,\n         0.71683471,  0.69547222],\n       [ 2.30071039,  2.15648101,  1.96482253, ..., -0.72940687,\n        -0.74104679, -0.72009657],\n       [-0.14364559, -0.33798344, -0.51796496, ...,  0.04988215,\n         0.0079829 , -0.02244404],\n       ...,\n       [ 0.72275516,  0.78617866,  0.82061307, ..., -0.06429939,\n        -0.02932509, -0.03691816],\n       [ 0.07756311, -0.17266548, -0.2099087 , ...,  0.18404546,\n         0.12564655,  0.05571619],\n       [ 0.28402451,  0.21675012,  0.06147433, ...,  2.76740286,\n         2.69415821,  2.70447982]])"
      ]
     },
     "execution_count": 42,
     "metadata": {},
     "output_type": "execute_result"
    }
   ],
   "source": [
    "model.train(x_train, y_train)"
   ]
  },
  {
   "cell_type": "code",
   "execution_count": 36,
   "metadata": {},
   "outputs": [],
   "source": [
    "x_test, y_test = load_data(train=False, one_khz=one_khz)\n",
    "\n",
    "x_test = x_test.view(x_test.shape[0], -1)"
   ]
  },
  {
   "cell_type": "code",
   "execution_count": 37,
   "metadata": {},
   "outputs": [
    {
     "name": "stdout",
     "output_type": "stream",
     "text": [
      "Accuracy : 68.0%\n"
     ]
    }
   ],
   "source": [
    "y_hat = model.predict(x_test)\n",
    "\n",
    "print('Accuracy : {}%'.format(100*sum(y_hat == y_test)/len(y_test)))"
   ]
  },
  {
   "cell_type": "markdown",
   "metadata": {},
   "source": [
    "### Test of the cross validation"
   ]
  },
  {
   "cell_type": "code",
   "execution_count": 36,
   "metadata": {},
   "outputs": [
    {
     "name": "stdout",
     "output_type": "stream",
     "text": [
      "[[ 30.8  33.1  37.9 ...  32.9  33.8  32.8]\n [135.7 132.  126.9 ... -16.6 -17.  -16.1]\n [ 69.4  64.1  59.2 ...  10.7   9.1   8. ]\n ...\n [ 92.9  94.7  95.7 ...   6.7   7.8   7.5]\n [ 75.4  68.6  67.6 ...  15.4  13.2  10.7]\n [ 81.   79.2  75.  ... 105.9 102.7 102.2]]\n"
     ]
    },
    {
     "data": {
      "text/plain": [
       "(0.7031025985663083, 0.05466136349450192)"
      ]
     },
     "execution_count": 36,
     "metadata": {},
     "output_type": "execute_result"
    }
   ],
   "source": [
    "model = BaselineModel()\n",
    "model.cross_validation(x_train, y_train)"
   ]
  },
  {
   "cell_type": "markdown",
   "metadata": {},
   "source": [
    "## Test of parameters tuning\n",
    "\n",
    "With normalization :"
   ]
  },
  {
   "cell_type": "code",
   "execution_count": 51,
   "metadata": {},
   "outputs": [],
   "source": [
    "model = BaselineModel()\n",
    "\n",
    "params = dict(C=np.logspace(-5, 5, 15))"
   ]
  },
  {
   "cell_type": "code",
   "execution_count": 52,
   "metadata": {},
   "outputs": [],
   "source": [
    "clf = model.tune_params(params, x_train, y_train)"
   ]
  },
  {
   "cell_type": "code",
   "execution_count": 54,
   "metadata": {},
   "outputs": [
    {
     "data": {
      "text/plain": [
       "[<matplotlib.lines.Line2D at 0x7fb8d2028c18>]"
      ]
     },
     "execution_count": 54,
     "metadata": {},
     "output_type": "execute_result"
    },
    {
     "data": {
      "image/png": "[encoded data removed]",
      "text/plain": [
       "<Figure size 432x288 with 1 Axes>"
      ]
     },
     "metadata": {},
     "output_type": "display_data"
    }
   ],
   "source": [
    "plt.semilogx(params['C'], clf.cv_results_['mean_test_score'])"
   ]
  },
  {
   "cell_type": "code",
   "execution_count": 64,
   "metadata": {},
   "outputs": [
    {
     "name": "stdout",
     "output_type": "stream",
     "text": [
      "Accuracy : 67.0%\n"
     ]
    }
   ],
   "source": [
    "model.set_params(C=1e-2)\n",
    "model.train(x_train, y_train)\n",
    "y_hat = model.predict(x_test)\n",
    "\n",
    "print('Accuracy : {}%'.format(100*sum(y_hat == y_test)/len(y_test)))"
   ]
  },
  {
   "cell_type": "markdown",
   "metadata": {},
   "source": [
    "Without normalization :"
   ]
  },
  {
   "cell_type": "code",
   "execution_count": 55,
   "metadata": {},
   "outputs": [
    {
     "data": {
      "text/plain": [
       "[<matplotlib.lines.Line2D at 0x7fb8d4b6c208>]"
      ]
     },
     "execution_count": 55,
     "metadata": {},
     "output_type": "execute_result"
    },
    {
     "data": {
      "image/png": "[encoded data removed]",
      "text/plain": [
       "<Figure size 432x288 with 1 Axes>"
      ]
     },
     "metadata": {},
     "output_type": "display_data"
    }
   ],
   "source": [
    "model = BaselineModel()\n",
    "\n",
    "params = dict(C=np.logspace(-5, 5, 15))\n",
    "\n",
    "clf = model.tune_params(params, x_train, y_train)\n",
    "\n",
    "plt.semilogx(params['C'], clf.cv_results_['mean_test_score'])"
   ]
  },
  {
   "cell_type": "code",
   "execution_count": 63,
   "metadata": {},
   "outputs": [
    {
     "name": "stdout",
     "output_type": "stream",
     "text": [
      "Accuracy : 73.0%\n"
     ]
    }
   ],
   "source": [
    "model.set_params(C=1e0)\n",
    "model.train(x_train, y_train)\n",
    "y_hat = model.predict(x_test)\n",
    "\n",
    "print('Accuracy : {}%'.format(100*sum(y_hat == y_test)/len(y_test)))"
   ]
  },
  {
   "cell_type": "code",
   "execution_count": null,
   "metadata": {},
   "outputs": [],
   "source": []
  }
 ],
 "metadata": {
  "kernelspec": {
   "display_name": "Python 3",
   "language": "python",
   "name": "python3"
  },
  "language_info": {
   "codemirror_mode": {
    "name": "ipython",
    "version": 3
   },
   "file_extension": ".py",
   "mimetype": "text/x-python",
   "name": "python",
   "nbconvert_exporter": "python",
   "pygments_lexer": "ipython3",
   "version": "3.6.4"
  }
 },
 "nbformat": 4,
 "nbformat_minor": 2
}
