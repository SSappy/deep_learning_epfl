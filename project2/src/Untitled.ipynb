{
 "cells": [
  {
   "cell_type": "code",
   "execution_count": 26,
   "metadata": {},
   "outputs": [],
   "source": [
    "import keras\n",
    "from keras.layers import Dense\n",
    "import numpy as np\n",
    "import math"
   ]
  },
  {
   "cell_type": "code",
   "execution_count": 24,
   "metadata": {},
   "outputs": [],
   "source": [
    "model = keras.models.Sequential()\n",
    "model.add(Dense(25, activation='relu', input_shape=(2,)))\n",
    "model.add(Dense(25, activation='relu',))\n",
    "model.add(Dense(25, activation='relu',))\n",
    "model.add(Dense(1, activation=None,))\n",
    "\n",
    "model.compile(loss='mse',\n",
    "              optimizer=keras.optimizers.sgd(),\n",
    "              metrics=['accuracy'])"
   ]
  },
  {
   "cell_type": "code",
   "execution_count": 30,
   "metadata": {},
   "outputs": [],
   "source": [
    "x_train = np.ndarray(shape=(1000, 2))\n",
    "for i in range(1000):\n",
    "    x_train[i] = np.random.rand(2)\n",
    "    \n",
    "y_train = np.ndarray(shape=(1000, 1))\n",
    "tmp = list(np.linalg.norm((x_train - np.array([0.5, 0.5])), axis=1) < 1/math.sqrt(2*math.pi))\n",
    "for i in range(1000):\n",
    "    if tmp[i]:\n",
    "        y_train[i] = 1\n",
    "    else:\n",
    "        y_train[i] = 0"
   ]
  },
  {
   "cell_type": "code",
   "execution_count": 32,
   "metadata": {},
   "outputs": [
    {
     "name": "stdout",
     "output_type": "stream",
     "text": [
      "Validation loss: 0.03244143634206353\n",
      "Validation accuracy: 0.985\n"
     ]
    }
   ],
   "source": [
    "history = model.fit(x_train, y_train, \n",
    "                    batch_size=1,\n",
    "                    epochs=20,\n",
    "                    verbose=0,\n",
    "                    validation_split=0.2)\n",
    "\n",
    "print('Validation loss:', history.history['val_loss'][-1])\n",
    "print('Validation accuracy:', history.history['val_acc'][-1])"
   ]
  },
  {
   "cell_type": "code",
   "execution_count": 39,
   "metadata": {},
   "outputs": [],
   "source": [
    "def round(a):\n",
    "    assert 0<a<1\n",
    "    if a > 1/2:\n",
    "        return 1\n",
    "    else"
   ]
  },
  {
   "cell_type": "code",
   "execution_count": null,
   "metadata": {},
   "outputs": [],
   "source": []
  },
  {
   "cell_type": "code",
   "execution_count": 40,
   "metadata": {},
   "outputs": [],
   "source": [
    "pred = model.predict(x_train)"
   ]
  },
  {
   "cell_type": "code",
   "execution_count": 41,
   "metadata": {},
   "outputs": [],
   "source": [
    "for i in range(len(pred)):\n",
    "    pred[i] = round(pred[i])"
   ]
  },
  {
   "cell_type": "code",
   "execution_count": 47,
   "metadata": {},
   "outputs": [
    {
     "data": {
      "text/plain": [
       "972"
      ]
     },
     "execution_count": 47,
     "metadata": {},
     "output_type": "execute_result"
    }
   ],
   "source": [
    "(pred == y_train).sum()"
   ]
  },
  {
   "cell_type": "code",
   "execution_count": null,
   "metadata": {},
   "outputs": [],
   "source": []
  }
 ],
 "metadata": {
  "kernelspec": {
   "display_name": "Python 3",
   "language": "python",
   "name": "python3"
  },
  "language_info": {
   "codemirror_mode": {
    "name": "ipython",
    "version": 3
   },
   "file_extension": ".py",
   "mimetype": "text/x-python",
   "name": "python",
   "nbconvert_exporter": "python",
   "pygments_lexer": "ipython3",
   "version": "3.5.3"
  }
 },
 "nbformat": 4,
 "nbformat_minor": 2
}
