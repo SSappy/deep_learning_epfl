{
 "cells": [
  {
   "cell_type": "markdown",
   "metadata": {},
   "source": [
    "You should implement at least the modules Linear (fully connected layer), ReLU , Tanh , Sequential\n",
    "to combine several modules in basic sequential structure, and LossMSE to compute the MSE loss."
   ]
  },
  {
   "cell_type": "code",
   "execution_count": 1,
   "metadata": {},
   "outputs": [],
   "source": [
    "%load_ext autoreload\n",
    "%autoreload 2"
   ]
  },
  {
   "cell_type": "code",
   "execution_count": 2,
   "metadata": {},
   "outputs": [],
   "source": [
    "import torch\n",
    "import numpy as np\n",
    "from torch import FloatTensor\n",
    "import math"
   ]
  },
  {
   "cell_type": "code",
   "execution_count": 3,
   "metadata": {},
   "outputs": [],
   "source": [
    "from sequential import Sequential\n",
    "from linear import Linear\n",
    "from activations import ReLU, tanh\n",
    "from losses import MSE"
   ]
  },
  {
   "cell_type": "code",
   "execution_count": 4,
   "metadata": {},
   "outputs": [],
   "source": [
    "import traceback\n",
    "import warnings\n",
    "import sys\n",
    "\n",
    "def warn_with_traceback(message, category, filename, lineno, file=None, line=None):\n",
    "\n",
    "    log = file if hasattr(file,'write') else sys.stderr\n",
    "    traceback.print_stack(file=log)\n",
    "    log.write(warnings.formatwarning(message, category, filename, lineno, line))\n",
    "\n",
    "warnings.showwarning = warn_with_traceback"
   ]
  },
  {
   "cell_type": "code",
   "execution_count": 5,
   "metadata": {},
   "outputs": [],
   "source": [
    "model = Sequential(MSE(), 2)\n",
    "model.add(Linear(2, 25))\n",
    "model.add(ReLU(25))\n",
    "model.add(Linear(25, 25))\n",
    "model.add(tanh(25))\n",
    "model.add(Linear(25, 25))\n",
    "model.add(ReLU(25))\n",
    "model.add(Linear(25, 2))\n",
    "model.add(ReLU(2))"
   ]
  },
  {
   "cell_type": "code",
   "execution_count": 6,
   "metadata": {},
   "outputs": [],
   "source": [
    "x_train = FloatTensor(1000, 2) \n",
    "for i in range(1000):\n",
    "    x_train[i] = FloatTensor([np.random.rand(),np.random.rand()])\n",
    "y_train = FloatTensor(1000, 2)\n",
    "tmp = list(np.linalg.norm((x_train - FloatTensor([0.5, 0.5])).numpy(), axis=1) < 1/math.sqrt(2*math.pi))\n",
    "for i in range(1000):\n",
    "    if tmp[i]:\n",
    "        y_train[i] = FloatTensor([0, 1])\n",
    "    else:\n",
    "        y_train[i] = FloatTensor([1, 0])"
   ]
  },
  {
   "cell_type": "code",
   "execution_count": 10,
   "metadata": {
    "scrolled": false
   },
   "outputs": [
    {
     "name": "stderr",
     "output_type": "stream",
     "text": [
      "  File \"/usr/lib/python3.5/runpy.py\", line 193, in _run_module_as_main\n",
      "    \"__main__\", mod_spec)\n",
      "  File \"/usr/lib/python3.5/runpy.py\", line 85, in _run_code\n",
      "    exec(code, run_globals)\n",
      "  File \"/usr/local/lib/python3.5/dist-packages/ipykernel_launcher.py\", line 16, in <module>\n",
      "    app.launch_new_instance()\n",
      "  File \"/usr/local/lib/python3.5/dist-packages/traitlets/config/application.py\", line 658, in launch_instance\n",
      "    app.start()\n",
      "  File \"/usr/local/lib/python3.5/dist-packages/ipykernel/kernelapp.py\", line 486, in start\n",
      "    self.io_loop.start()\n",
      "  File \"/usr/local/lib/python3.5/dist-packages/tornado/platform/asyncio.py\", line 127, in start\n",
      "    self.asyncio_loop.run_forever()\n",
      "  File \"/usr/lib/python3.5/asyncio/base_events.py\", line 421, in run_forever\n",
      "    self._run_once()\n",
      "  File \"/usr/lib/python3.5/asyncio/base_events.py\", line 1424, in _run_once\n",
      "    handle._run()\n",
      "  File \"/usr/lib/python3.5/asyncio/events.py\", line 126, in _run\n",
      "    self._callback(*self._args)\n",
      "  File \"/usr/local/lib/python3.5/dist-packages/tornado/platform/asyncio.py\", line 117, in _handle_events\n",
      "    handler_func(fileobj, events)\n",
      "  File \"/usr/local/lib/python3.5/dist-packages/tornado/stack_context.py\", line 276, in null_wrapper\n",
      "    return fn(*args, **kwargs)\n",
      "  File \"/usr/local/lib/python3.5/dist-packages/zmq/eventloop/zmqstream.py\", line 450, in _handle_events\n",
      "    self._handle_recv()\n",
      "  File \"/usr/local/lib/python3.5/dist-packages/zmq/eventloop/zmqstream.py\", line 480, in _handle_recv\n",
      "    self._run_callback(callback, msg)\n",
      "  File \"/usr/local/lib/python3.5/dist-packages/zmq/eventloop/zmqstream.py\", line 432, in _run_callback\n",
      "    callback(*args, **kwargs)\n",
      "  File \"/usr/local/lib/python3.5/dist-packages/tornado/stack_context.py\", line 276, in null_wrapper\n",
      "    return fn(*args, **kwargs)\n",
      "  File \"/usr/local/lib/python3.5/dist-packages/ipykernel/kernelbase.py\", line 283, in dispatcher\n",
      "    return self.dispatch_shell(stream, msg)\n",
      "  File \"/usr/local/lib/python3.5/dist-packages/ipykernel/kernelbase.py\", line 233, in dispatch_shell\n",
      "    handler(stream, idents, msg)\n",
      "  File \"/usr/local/lib/python3.5/dist-packages/ipykernel/kernelbase.py\", line 399, in execute_request\n",
      "    user_expressions, allow_stdin)\n",
      "  File \"/usr/local/lib/python3.5/dist-packages/ipykernel/ipkernel.py\", line 208, in do_execute\n",
      "    res = shell.run_cell(code, store_history=store_history, silent=silent)\n",
      "  File \"/usr/local/lib/python3.5/dist-packages/ipykernel/zmqshell.py\", line 537, in run_cell\n",
      "    return super(ZMQInteractiveShell, self).run_cell(*args, **kwargs)\n",
      "  File \"/usr/local/lib/python3.5/dist-packages/IPython/core/interactiveshell.py\", line 2662, in run_cell\n",
      "    raw_cell, store_history, silent, shell_futures)\n",
      "  File \"/usr/local/lib/python3.5/dist-packages/IPython/core/interactiveshell.py\", line 2785, in _run_cell\n",
      "    interactivity=interactivity, compiler=compiler, result=result)\n",
      "  File \"/usr/local/lib/python3.5/dist-packages/IPython/core/interactiveshell.py\", line 2903, in run_ast_nodes\n",
      "    if self.run_code(code, result):\n",
      "  File \"/usr/local/lib/python3.5/dist-packages/IPython/core/interactiveshell.py\", line 2963, in run_code\n",
      "    exec(code_obj, self.user_global_ns, self.user_ns)\n",
      "  File \"<ipython-input-10-f0a11b4c8c2c>\", line 1, in <module>\n",
      "    preds = model.fit(x_train, y_train, epochs=50, mini_batch_size=5)\n",
      "  File \"/home/Documents/EPFL/MA2/deep_learning/deep_learning_epfl/project2/src/sequential.py\", line 50, in fit\n",
      "    current_grad = layer.backward(current_grad, step_size=0.001)\n",
      "  File \"/home/Documents/EPFL/MA2/deep_learning/deep_learning_epfl/project2/src/linear.py\", line 53, in backward\n",
      "    self.biases -= step_size * self.biases_gradients\n",
      "  File \"/usr/local/lib/python3.5/dist-packages/torch/tensor.py\", line 318, in __isub__\n",
      "    return self.sub_(other)\n",
      "  File \"<ipython-input-4-d602e1b4df11>\", line 8, in warn_with_traceback\n",
      "    traceback.print_stack(file=log)\n",
      "/usr/local/lib/python3.5/dist-packages/torch/tensor.py:318: UserWarning: other is not broadcastable to self, but they have the same number of elements.  Falling back to deprecated pointwise behavior.\n",
      "  return self.sub_(other)\n"
     ]
    },
    {
     "name": "stdout",
     "output_type": "stream",
     "text": [
      "Training MSE at epoch 1 : 1.7819477319717407\n",
      "Training MSE at epoch 2 : 1.5334510803222656\n",
      "Training MSE at epoch 3 : 1.2743289470672607\n",
      "Training MSE at epoch 4 : 1.145806908607483\n",
      "Training MSE at epoch 5 : 1.0813313722610474\n",
      "Training MSE at epoch 6 : 1.0629112720489502\n",
      "Training MSE at epoch 7 : 1.0453139543533325\n",
      "Training MSE at epoch 8 : 1.0161281824111938\n",
      "Training MSE at epoch 9 : 0.9903640151023865\n",
      "Training MSE at epoch 10 : 0.9707023501396179\n",
      "Training MSE at epoch 11 : 0.9480293393135071\n",
      "Training MSE at epoch 12 : 0.9369180202484131\n",
      "Training MSE at epoch 13 : 0.9601030945777893\n",
      "Training MSE at epoch 14 : 0.9083287119865417\n",
      "Training MSE at epoch 15 : 0.827075183391571\n",
      "Training MSE at epoch 16 : 0.7774530649185181\n",
      "Training MSE at epoch 17 : 0.7412318587303162\n",
      "Training MSE at epoch 18 : 0.7084337472915649\n",
      "Training MSE at epoch 19 : 0.6911467909812927\n",
      "Training MSE at epoch 20 : 0.6905908584594727\n",
      "Training MSE at epoch 21 : 0.6990168690681458\n",
      "Training MSE at epoch 22 : 0.7029389142990112\n",
      "Training MSE at epoch 23 : 0.7220394015312195\n",
      "Training MSE at epoch 24 : 0.7386534214019775\n",
      "Training MSE at epoch 25 : 0.7211229205131531\n",
      "Training MSE at epoch 26 : 0.6696044206619263\n",
      "Training MSE at epoch 27 : 0.6376684904098511\n",
      "Training MSE at epoch 28 : 0.6243252158164978\n",
      "Training MSE at epoch 29 : 0.6114189624786377\n",
      "Training MSE at epoch 30 : 0.6006685495376587\n",
      "Training MSE at epoch 31 : 0.5859514474868774\n",
      "Training MSE at epoch 32 : 0.5997795462608337\n",
      "Training MSE at epoch 33 : 0.6211461424827576\n",
      "Training MSE at epoch 34 : 0.6470531821250916\n",
      "Training MSE at epoch 35 : 0.6674497723579407\n",
      "Training MSE at epoch 36 : 0.6835176348686218\n",
      "Training MSE at epoch 37 : 0.697347104549408\n",
      "Training MSE at epoch 38 : 0.7004691958427429\n",
      "Training MSE at epoch 39 : 0.704098105430603\n",
      "Training MSE at epoch 40 : 0.7198320031166077\n",
      "Training MSE at epoch 41 : 0.7218226194381714\n",
      "Training MSE at epoch 42 : 0.7195097208023071\n",
      "Training MSE at epoch 43 : 0.7264190912246704\n",
      "Training MSE at epoch 44 : 0.7081447839736938\n",
      "Training MSE at epoch 45 : 0.6992626190185547\n",
      "Training MSE at epoch 46 : 0.7142924666404724\n",
      "Training MSE at epoch 47 : 0.7262944579124451\n",
      "Training MSE at epoch 48 : 0.7251559495925903\n",
      "Training MSE at epoch 49 : 0.727447509765625\n",
      "Training MSE at epoch 50 : 0.6987941265106201\n"
     ]
    }
   ],
   "source": [
    "preds = model.fit(x_train, y_train, epochs=50, mini_batch_size=5)"
   ]
  },
  {
   "cell_type": "code",
   "execution_count": 13,
   "metadata": {},
   "outputs": [],
   "source": [
    "count = 0\n",
    "for i in range(len(preds)):\n",
    "    if preds[i, 0] == y_train[i, 0] and y_train[i, 0] == 0:\n",
    "        continue\n",
    "    if preds[i, 0] == y_train[i, 0] and y_train[i, 0] == 0:\n",
    "        count += 1\n",
    "    elif preds[i, 1] == y_train[i, 1] and y_train[i, 1] == 0:\n",
    "        count += 1"
   ]
  },
  {
   "cell_type": "code",
   "execution_count": 14,
   "metadata": {},
   "outputs": [
    {
     "data": {
      "text/plain": [
       "418"
      ]
     },
     "execution_count": 14,
     "metadata": {},
     "output_type": "execute_result"
    }
   ],
   "source": [
    "count"
   ]
  },
  {
   "cell_type": "code",
   "execution_count": null,
   "metadata": {},
   "outputs": [],
   "source": []
  }
 ],
 "metadata": {
  "kernelspec": {
   "display_name": "Python 3",
   "language": "python",
   "name": "python3"
  },
  "language_info": {
   "codemirror_mode": {
    "name": "ipython",
    "version": 3
   },
   "file_extension": ".py",
   "mimetype": "text/x-python",
   "name": "python",
   "nbconvert_exporter": "python",
   "pygments_lexer": "ipython3",
   "version": "3.5.3"
  }
 },
 "nbformat": 4,
 "nbformat_minor": 2
}
