{
 "cells": [
  {
   "cell_type": "markdown",
   "metadata": {},
   "source": [
    "You should implement at least the modules Linear (fully connected layer), ReLU , Tanh , Sequential\n",
    "to combine several modules in basic sequential structure, and LossMSE to compute the MSE loss."
   ]
  },
  {
   "cell_type": "code",
   "execution_count": 1,
   "metadata": {},
   "outputs": [],
   "source": [
    "%load_ext autoreload\n",
    "%autoreload 2"
   ]
  },
  {
   "cell_type": "code",
   "execution_count": 2,
   "metadata": {},
   "outputs": [],
   "source": [
    "import matplotlib.pyplot as plt\n",
    "import numpy as np"
   ]
  },
  {
   "cell_type": "code",
   "execution_count": 3,
   "metadata": {},
   "outputs": [],
   "source": [
    "from sequential import Sequential\n",
    "from linear import Linear\n",
    "from activations import ReLU, Tanh\n",
    "from losses import MSE\n",
    "from utils import build_data"
   ]
  },
  {
   "cell_type": "code",
   "execution_count": 4,
   "metadata": {},
   "outputs": [],
   "source": [
    "import warnings\n",
    "warnings.filterwarnings(\"ignore\", message=\"other is not broadcastable to self, but they have the same number of elements.  Falling back to deprecated pointwise behavior.\")"
   ]
  },
  {
   "cell_type": "code",
   "execution_count": 5,
   "metadata": {},
   "outputs": [],
   "source": [
    "x_train, y_train = build_data(1000)\n",
    "x_validation, y_validation = build_data(1000)"
   ]
  },
  {
   "cell_type": "code",
   "execution_count": 6,
   "metadata": {},
   "outputs": [],
   "source": [
    "def build_model():\n",
    "    model = Sequential(MSE(), input_size=2)\n",
    "    model.add_layer(Linear(2, 25))\n",
    "    model.add_layer(ReLU(25))\n",
    "    model.add_layer(Linear(25, 25))\n",
    "    model.add_layer(ReLU(25))\n",
    "    model.add_layer(Linear(25, 25))\n",
    "    model.add_layer(Tanh(25))\n",
    "    model.add_layer(Linear(25, 2))\n",
    "    return model"
   ]
  },
  {
   "cell_type": "code",
   "execution_count": 7,
   "metadata": {},
   "outputs": [
    {
     "name": "stdout",
     "output_type": "stream",
     "text": [
      "Model with 7 layers\n",
      "\tInput size : 2\n",
      "\tFully connected layer of 25 hidden units\n",
      "\tReLU activation layer of size 25\n",
      "\tFully connected layer of 25 hidden units\n",
      "\tReLU activation layer of size 25\n",
      "\tFully connected layer of 25 hidden units\n",
      "\tTanh activation layer of size 25\n",
      "\t2 fully connected output units\n",
      "Loss at epoch 1 : 0.26214705815020717\n",
      "Loss at epoch 2 : 0.2094088450842537\n",
      "Loss at epoch 3 : 0.18831051644310356\n",
      "Loss at epoch 4 : 0.1923653817176819\n",
      "Loss at epoch 5 : 0.19570881366235698\n",
      "Loss at epoch 6 : 0.21172951058810577\n",
      "Loss at epoch 7 : 0.4796648635659367\n",
      "Loss at epoch 8 : 0.4276466245353222\n",
      "Loss at epoch 9 : 0.3974830780811608\n",
      "Loss at epoch 10 : 0.2861089642047882\n",
      "Loss at epoch 11 : 0.23604735933616758\n",
      "Loss at epoch 12 : 0.21110998628288508\n",
      "Loss at epoch 13 : 0.19431830468401312\n",
      "Loss at epoch 14 : 0.18331826154328884\n",
      "Loss at epoch 15 : 0.18013532582178596\n",
      "Loss at epoch 16 : 0.16615149747868418\n",
      "Loss at epoch 17 : 0.16200483917980454\n",
      "Loss at epoch 18 : 0.1573194277747534\n",
      "Loss at epoch 19 : 0.15245391485630536\n",
      "Loss at epoch 20 : 0.15165837000095053\n",
      "Loss at epoch 21 : 0.1488606518736342\n",
      "Loss at epoch 22 : 0.15131128970942154\n",
      "Loss at epoch 23 : 0.14356088493927383\n",
      "Loss at epoch 24 : 0.1429995419931074\n",
      "Loss at epoch 25 : 0.14080265561522812\n",
      "Loss at epoch 26 : 0.1398509985622004\n",
      "Loss at epoch 27 : 0.13817348195114026\n",
      "Loss at epoch 28 : 0.13819921871874977\n",
      "Loss at epoch 29 : 0.13653326134457167\n",
      "Loss at epoch 30 : 0.14261296199367643\n",
      "Loss at epoch 31 : 0.13831219345709542\n",
      "Loss at epoch 32 : 0.13169035886793426\n",
      "Loss at epoch 33 : 0.1425831464418443\n",
      "Loss at epoch 34 : 0.13019350853908326\n",
      "Loss at epoch 35 : 0.12905194363510236\n",
      "Loss at epoch 36 : 0.12707484488341741\n",
      "Loss at epoch 37 : 0.12578318755832152\n",
      "Loss at epoch 38 : 0.13238986452750395\n",
      "Loss at epoch 39 : 0.12341811488719577\n",
      "Loss at epoch 40 : 0.12332942205005383\n",
      "Loss at epoch 41 : 0.1238865832149786\n",
      "Loss at epoch 42 : 0.12107330425562396\n",
      "Loss at epoch 43 : 0.11778727111896296\n",
      "Loss at epoch 44 : 0.11983024492545519\n",
      "Loss at epoch 45 : 0.12277426515247317\n",
      "Loss at epoch 46 : 0.11478906638607077\n",
      "Loss at epoch 47 : 0.11492491775465896\n",
      "Loss at epoch 48 : 0.1140001208287431\n",
      "Loss at epoch 49 : 0.1299870221973106\n",
      "Loss at epoch 50 : 0.11137302235439711\n",
      "Loss at epoch 51 : 0.11027943710173713\n",
      "Loss at epoch 52 : 0.11087263313133736\n",
      "Loss at epoch 53 : 0.10937758719239354\n",
      "Loss at epoch 54 : 0.11372639759923459\n",
      "Loss at epoch 55 : 0.11180607639538356\n",
      "Loss at epoch 56 : 0.11320123879473977\n",
      "Loss at epoch 57 : 0.10901646749440988\n",
      "Loss at epoch 58 : 0.10738045335258357\n",
      "Loss at epoch 59 : 0.10659998421772798\n",
      "Loss at epoch 60 : 0.10402813489835534\n",
      "Loss at epoch 61 : 0.10724955812692724\n",
      "Loss at epoch 62 : 0.10441758399223727\n",
      "Loss at epoch 63 : 0.10294637038531072\n",
      "Loss at epoch 64 : 0.10145024825731525\n",
      "Loss at epoch 65 : 0.10397279769419401\n",
      "Loss at epoch 66 : 0.10399969997593689\n",
      "Loss at epoch 67 : 0.10222468068342505\n",
      "Loss at epoch 68 : 0.10121623686862585\n",
      "Loss at epoch 69 : 0.10201894844453455\n",
      "Loss at epoch 70 : 0.11009134693546366\n",
      "Loss at epoch 71 : 0.10441944849656011\n",
      "Loss at epoch 72 : 0.09974312587244458\n",
      "Loss at epoch 73 : 0.11812136307621404\n",
      "Loss at epoch 74 : 0.09902250422813495\n",
      "Loss at epoch 75 : 0.095519710092286\n",
      "Loss at epoch 76 : 0.12003960288899543\n",
      "Loss at epoch 77 : 0.11658780660347838\n",
      "Loss at epoch 78 : 0.09643726398164859\n",
      "Loss at epoch 79 : 0.09814082071647771\n",
      "Loss at epoch 80 : 0.09651122610422316\n",
      "Loss at epoch 81 : 0.09533729535644489\n",
      "Loss at epoch 82 : 0.09348315313456623\n",
      "Loss at epoch 83 : 0.09124328505927223\n",
      "Loss at epoch 84 : 0.0992212285016667\n",
      "Loss at epoch 85 : 0.09120864832122061\n",
      "Loss at epoch 86 : 0.09863911974885195\n",
      "Loss at epoch 87 : 0.09421645783126038\n",
      "Loss at epoch 88 : 0.09688128890671215\n",
      "Loss at epoch 89 : 0.08830686358003004\n",
      "Loss at epoch 90 : 0.09838439710080729\n",
      "Loss at epoch 91 : 0.08682123841858992\n",
      "Loss at epoch 92 : 0.0886513340634383\n",
      "Loss at epoch 93 : 0.09502818893781569\n",
      "Loss at epoch 94 : 0.09165196096419595\n",
      "Loss at epoch 95 : 0.08862527598958332\n",
      "Loss at epoch 96 : 0.08910032599436636\n",
      "Loss at epoch 97 : 0.0820673577927173\n",
      "Loss at epoch 98 : 0.08229998142790827\n",
      "Loss at epoch 99 : 0.08623681513679798\n",
      "Loss at epoch 100 : 0.08074325611071072\n",
      "\n",
      "Training loss : 0.08074325611071072\n",
      "Training accuracy : 0.951\n",
      "\n",
      "Validation loss : 0.08767240071331525\n",
      "Validation accuracy : 0.922\n"
     ]
    },
    {
     "data": {
      "text/plain": [
       "(0.951, 0.922)"
      ]
     },
     "execution_count": 7,
     "metadata": {},
     "output_type": "execute_result"
    }
   ],
   "source": [
    "model = build_model()\n",
    "model.summary()\n",
    "model.fit(x_train, y_train, x_validation, y_validation, epochs=100, step_size=0.001)"
   ]
  },
  {
   "cell_type": "code",
   "execution_count": 8,
   "metadata": {},
   "outputs": [],
   "source": [
    "preds = model.predict(x_validation)"
   ]
  },
  {
   "cell_type": "code",
   "execution_count": 9,
   "metadata": {},
   "outputs": [],
   "source": [
    "def get_coords(x, indexes):\n",
    "    xs = []\n",
    "    ys = []\n",
    "    for i in indexes:\n",
    "        xs.append(x[i][0])\n",
    "        ys.append(x[i][1])\n",
    "    return xs, ys"
   ]
  },
  {
   "cell_type": "code",
   "execution_count": 10,
   "metadata": {},
   "outputs": [],
   "source": [
    "x1, y1 = get_coords(x_validation, np.where(preds != y_validation)[0])\n",
    "x2, y2 = get_coords(x_validation, np.where(preds == y_validation)[0])"
   ]
  },
  {
   "cell_type": "code",
   "execution_count": 11,
   "metadata": {},
   "outputs": [
    {
     "data": {
      "text/plain": [
       "<matplotlib.legend.Legend at 0x7fbdf42f1c18>"
      ]
     },
     "execution_count": 11,
     "metadata": {},
     "output_type": "execute_result"
    },
    {
     "data": {
      "image/png": "[encoded data removed]",
      "text/plain": [
       "<Figure size 1080x1080 with 1 Axes>"
      ]
     },
     "metadata": {},
     "output_type": "display_data"
    }
   ],
   "source": [
    "fig, ax = plt.subplots(figsize=(15, 15))\n",
    "plt.plot(x1, y1, 'ro', color='red', label='Wrongly classified')\n",
    "plt.plot(x2, y2, 'ro', color='blue', label='Well classified')\n",
    "plt.legend()"
   ]
  },
  {
   "cell_type": "markdown",
   "metadata": {},
   "source": [
    "We see that the classifier makes mistakes on the boundary which is normal."
   ]
  }
 ],
 "metadata": {
  "kernelspec": {
   "display_name": "Python 3",
   "language": "python",
   "name": "python3"
  },
  "language_info": {
   "codemirror_mode": {
    "name": "ipython",
    "version": 3
   },
   "file_extension": ".py",
   "mimetype": "text/x-python",
   "name": "python",
   "nbconvert_exporter": "python",
   "pygments_lexer": "ipython3",
   "version": "3.5.3"
  }
 },
 "nbformat": 4,
 "nbformat_minor": 2
}
