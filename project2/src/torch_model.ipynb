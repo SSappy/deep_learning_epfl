{
 "cells": [
  {
   "cell_type": "code",
   "execution_count": 1,
   "metadata": {},
   "outputs": [],
   "source": [
    "import torch\n",
    "\n",
    "from torch.nn import Module, Linear, ReLU, Tanh\n",
    "from torch.autograd import Variable\n",
    "from utils import build_data\n",
    "\n",
    "from torch.nn import MSELoss\n",
    "from torch.optim.sgd import SGD\n",
    "\n",
    "import matplotlib.pyplot as plt"
   ]
  },
  {
   "cell_type": "code",
   "execution_count": 2,
   "metadata": {},
   "outputs": [],
   "source": [
    "class Net(Module):\n",
    "    def __init__(self):\n",
    "        super(Net, self).__init__()\n",
    "        self.hidden = Linear(2, 25)\n",
    "        self.hidden2 = Linear(25, 25)\n",
    "        self.hidden3 = Linear(25, 25)\n",
    "        self.out = Linear(25, 2)\n",
    "\n",
    "    def forward(self, x):\n",
    "        relu = ReLU()\n",
    "        tanh = Tanh()\n",
    "        x = relu(self.hidden(x))\n",
    "        x = relu(self.hidden2(x))\n",
    "        x = tanh(self.hidden3(x))\n",
    "        x = self.out(x)\n",
    "        return x"
   ]
  },
  {
   "cell_type": "code",
   "execution_count": 3,
   "metadata": {},
   "outputs": [],
   "source": [
    "def acc(x, y):\n",
    "    correct = 0\n",
    "    total = 1000\n",
    "    for i in range(1000):\n",
    "        images = Variable(x[i])\n",
    "        outputs = model(images)\n",
    "        _, predicted = torch.max(outputs.data, 0)\n",
    "        _, true = y[i].max(0)\n",
    "        if predicted[0] == true[0]:\n",
    "            correct += 1\n",
    "    return correct/total"
   ]
  },
  {
   "cell_type": "code",
   "execution_count": 4,
   "metadata": {},
   "outputs": [],
   "source": [
    "x_train, y_train = build_data(1000)\n",
    "x_validation, y_validation = build_data(1000)"
   ]
  },
  {
   "cell_type": "code",
   "execution_count": 5,
   "metadata": {},
   "outputs": [],
   "source": [
    "model = Net()\n",
    "\n",
    "# Loss and Optimizer\n",
    "criterion = MSELoss()  \n",
    "optimizer = SGD(model.parameters(), lr=0.01)  \n",
    "\n",
    "num_epochs=50\n",
    "batch_size=1"
   ]
  },
  {
   "cell_type": "code",
   "execution_count": 6,
   "metadata": {},
   "outputs": [
    {
     "name": "stdout",
     "output_type": "stream",
     "text": [
      "Loss at epoch 1 : 0.23201005160808563\n",
      "Loss at epoch 2 : 0.21972689032554626\n",
      "Loss at epoch 3 : 0.1999148726463318\n",
      "Loss at epoch 4 : 0.1679125279188156\n",
      "Loss at epoch 5 : 0.11988916993141174\n",
      "Loss at epoch 6 : 0.052689872682094574\n",
      "Loss at epoch 7 : 0.0012036398984491825\n",
      "Loss at epoch 8 : 0.02642706036567688\n",
      "Loss at epoch 9 : 0.020362237468361855\n",
      "Loss at epoch 10 : 0.012968648225069046\n",
      "Loss at epoch 11 : 0.010610157623887062\n",
      "Loss at epoch 12 : 0.011414162814617157\n",
      "Loss at epoch 13 : 0.010166605934500694\n",
      "Loss at epoch 14 : 0.009512719698250294\n",
      "Loss at epoch 15 : 0.011500348336994648\n",
      "Loss at epoch 16 : 0.011760212481021881\n",
      "Loss at epoch 17 : 0.012066235765814781\n",
      "Loss at epoch 18 : 0.012008659541606903\n",
      "Loss at epoch 19 : 0.012869412079453468\n",
      "Loss at epoch 20 : 0.013750368729233742\n",
      "Loss at epoch 21 : 0.013743746094405651\n",
      "Loss at epoch 22 : 0.013069256208837032\n",
      "Loss at epoch 23 : 0.013537455350160599\n",
      "Loss at epoch 24 : 0.014637703076004982\n",
      "Loss at epoch 25 : 0.01612474024295807\n",
      "Loss at epoch 26 : 0.017234118655323982\n",
      "Loss at epoch 27 : 0.01434897817671299\n",
      "Loss at epoch 28 : 0.016126122325658798\n",
      "Loss at epoch 29 : 0.017407633364200592\n",
      "Loss at epoch 30 : 0.0175047405064106\n",
      "Loss at epoch 31 : 0.016147451475262642\n",
      "Loss at epoch 32 : 0.014999737963080406\n",
      "Loss at epoch 33 : 0.014756571501493454\n",
      "Loss at epoch 34 : 0.013467224314808846\n",
      "Loss at epoch 35 : 0.013358326628804207\n",
      "Loss at epoch 36 : 0.013370201922953129\n",
      "Loss at epoch 37 : 0.012673947028815746\n",
      "Loss at epoch 38 : 0.012345869094133377\n",
      "Loss at epoch 39 : 0.010706827044487\n",
      "Loss at epoch 40 : 0.010750445537269115\n",
      "Loss at epoch 41 : 0.009627960622310638\n",
      "Loss at epoch 42 : 0.008134636096656322\n",
      "Loss at epoch 43 : 0.007197743281722069\n",
      "Loss at epoch 44 : 0.007693229243159294\n",
      "Loss at epoch 45 : 0.006804414093494415\n",
      "Loss at epoch 46 : 0.006360574625432491\n",
      "Loss at epoch 47 : 0.007147739175707102\n",
      "Loss at epoch 48 : 0.005814854521304369\n",
      "Loss at epoch 49 : 0.005509199574589729\n",
      "Loss at epoch 50 : 0.005000181496143341\n",
      "Training loss : 0.005000181496143341\n",
      "Training accuracy : 0.945\n",
      "Validation accuracy : 0.961\n"
     ]
    }
   ],
   "source": [
    "# Train the Model\n",
    "train_loss = []\n",
    "val_loss = []\n",
    "train_acc = []\n",
    "\n",
    "for epoch in range(num_epochs):\n",
    "    for i in range(1000): \n",
    "        # Convert torch tensor to Variable\n",
    "        images = Variable(x_train[i].view(-1, 2))\n",
    "        labels = Variable(y_train[i])\n",
    "        \n",
    "        # Forward + Backward + Optimize\n",
    "        optimizer.zero_grad()  # zero the gradient buffer\n",
    "        outputs = model.forward(images)\n",
    "        loss = criterion(outputs, labels)\n",
    "        loss.backward()\n",
    "        optimizer.step()\n",
    "    \n",
    "    train_loss.append(loss.data[0])\n",
    "    train_acc.append(acc(x_train, y_train))\n",
    "\n",
    "    print('Loss at epoch {} : {}'.format(epoch + 1, loss.data[0]))\n",
    "    \n",
    "print('Training loss : {}'.format(loss.data[0]))\n",
    "print('Training accuracy : {}'.format(acc(x_train, y_train)))\n",
    "\n",
    "print('Validation accuracy : {}'.format(acc(x_validation, y_validation)))"
   ]
  },
  {
   "cell_type": "code",
   "execution_count": 7,
   "metadata": {},
   "outputs": [
    {
     "data": {
      "text/plain": [
       "[<matplotlib.lines.Line2D at 0x7f6188766080>]"
      ]
     },
     "execution_count": 7,
     "metadata": {},
     "output_type": "execute_result"
    },
    {
     "data": {
      "image/png": "[encoded data removed]",
      "text/plain": [
       "<Figure size 432x288 with 1 Axes>"
      ]
     },
     "metadata": {},
     "output_type": "display_data"
    }
   ],
   "source": [
    "plt.plot(train_loss)"
   ]
  },
  {
   "cell_type": "code",
   "execution_count": null,
   "metadata": {},
   "outputs": [],
   "source": []
  }
 ],
 "metadata": {
  "kernelspec": {
   "display_name": "Python 3",
   "language": "python",
   "name": "python3"
  },
  "language_info": {
   "codemirror_mode": {
    "name": "ipython",
    "version": 3
   },
   "file_extension": ".py",
   "mimetype": "text/x-python",
   "name": "python",
   "nbconvert_exporter": "python",
   "pygments_lexer": "ipython3",
   "version": "3.5.3"
  }
 },
 "nbformat": 4,
 "nbformat_minor": 2
}
